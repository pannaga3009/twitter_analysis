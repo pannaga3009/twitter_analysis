{
 "cells": [
  {
   "cell_type": "markdown",
   "metadata": {},
   "source": [
    "# Twitter Analysis"
   ]
  },
  {
   "cell_type": "code",
   "execution_count": 22,
   "metadata": {},
   "outputs": [
    {
     "data": {
      "text/plain": [
       "WordList(['i', 'am', 'angry'])"
      ]
     },
     "execution_count": 22,
     "metadata": {},
     "output_type": "execute_result"
    }
   ],
   "source": [
    "import nltk\n",
    "from textblob import TextBlob\n",
    "wiki = TextBlob(\"i am angry\")\n",
    "wiki.tags\n",
    "wiki.words\n",
    "\n"
   ]
  },
  {
   "cell_type": "code",
   "execution_count": 2,
   "metadata": {},
   "outputs": [
    {
     "name": "stdout",
     "output_type": "stream",
     "text": [
      "[nltk_data] Downloading package averaged_perceptron_tagger to\n",
      "[nltk_data]     /Users/pannaga/nltk_data...\n",
      "[nltk_data]   Unzipping taggers/averaged_perceptron_tagger.zip.\n"
     ]
    },
    {
     "data": {
      "text/plain": [
       "True"
      ]
     },
     "execution_count": 2,
     "metadata": {},
     "output_type": "execute_result"
    }
   ],
   "source": [
    "nltk.download('averaged_perceptron_tagger')"
   ]
  },
  {
   "cell_type": "code",
   "execution_count": 3,
   "metadata": {},
   "outputs": [
    {
     "data": {
      "text/plain": [
       "WordList(['i', 'am', 'angry'])"
      ]
     },
     "execution_count": 3,
     "metadata": {},
     "output_type": "execute_result"
    }
   ],
   "source": [
    "from textblob import TextBlob\n",
    "wiki = TextBlob(\"i am angry\")\n",
    "wiki.tags\n",
    "wiki.words\n",
    "\n",
    "\n"
   ]
  },
  {
   "cell_type": "code",
   "execution_count": 4,
   "metadata": {},
   "outputs": [
    {
     "data": {
      "text/plain": [
       "-0.5"
      ]
     },
     "execution_count": 4,
     "metadata": {},
     "output_type": "execute_result"
    }
   ],
   "source": [
    "wiki.sentiment.polarity\n"
   ]
  },
  {
   "cell_type": "code",
   "execution_count": 18,
   "metadata": {},
   "outputs": [],
   "source": [
    "import tweepy \n",
    "from textblob import TextBlob\n",
    "\n",
    "consumer_key ='nx7iu8MbuTR4QNsYfnE1jnNfh' \n",
    "consumer_secret ='pyN4ml1TZhBbNOZ6YEJyJw7lnQ3Qmi3HSSyfCabB65d8Dby12u'\n",
    "\n",
    "access_token ='388861409-2cEyaRpUFNp5lP5WZuaGdPHRwYxQlHRXYnB051ZL'\n",
    "access_token_secret ='0ykXaQ8L66wFOgnU2YqukRgfshEF0sqnNgAuBLiyefQTl'\n",
    "\n",
    "auth = tweepy.OAuthHandler(consumer_key ,consumer_secret )\n",
    "auth.set_access_token(access_token,access_token_secret)\n",
    "\n",
    "api = tweepy.API(auth)\n",
    "\n"
   ]
  },
  {
   "cell_type": "code",
   "execution_count": 21,
   "metadata": {},
   "outputs": [
    {
     "name": "stdout",
     "output_type": "stream",
     "text": [
      "I liked a @YouTube video https://t.co/1QQmjrJ0Df Padmaavat: Khalibali - Ranveer Singh | Deepika Padukone|Shahid Kapoor|Shivam Pathak\n",
      "Sentiment(polarity=0.6, subjectivity=0.8)\n",
      "Deepika Padukone Latest Hot and Sensual Photoshoots - Feedbyte https://t.co/kHEq1EeZXF\n",
      "Sentiment(polarity=0.375, subjectivity=0.875)\n",
      "Padmaavat\" Box Office Collection Day 22: Deepika Padukone's Film Is A Super Hit. Earns 267 Crore - NDTV… https://t.co/OwINScXmer\n",
      "Sentiment(polarity=0.3333333333333333, subjectivity=0.6666666666666666)\n",
      "RT @ZeeNews: Sanjay Leela Bhansali's '#Padmaavat' continues to remain rock-steady in the third week of its release\n",
      "https://t.co/mv6qomuIUW\n",
      "Sentiment(polarity=0.0, subjectivity=0.0)\n",
      "RT @DeepikaPFC: [Instagram] Last week Deepika Padukone followed Roger Federer, Leonardo Di Carpio, Beyoncé, Michelle Obama, Oprah, Serena W…\n",
      "Sentiment(polarity=-0.375, subjectivity=0.5333333333333333)\n",
      "RT @DeepikaPFC: [PIC] 3 beauties!😍❤️👌🏽 Deepika Padukone with Madhuri Dixit and Sridevi for Lux Golden Rose. (Tfs @TeamDeepikaMY) https://t.…\n",
      "Sentiment(polarity=0.04999999999999999, subjectivity=0.8166666666666668)\n",
      "So this is the title of Deepika Padukone, Irrfan Khan-starrer film with Vishal Bhardwaj! - India TV… https://t.co/EUOCRdp7AC\n",
      "Sentiment(polarity=0.0, subjectivity=0.0)\n",
      "RT @BLOG38289644: Deepika Padukone recently spoke about her relationship  https://t.co/OTR5EG8uvv\n",
      "Sentiment(polarity=0.0, subjectivity=0.25)\n",
      "Padmaavat” Box Office Collection Day 22: Deepika Padukone’s Film Is A Super Hit. Earns 267 Crore https://t.co/pz2sc37bqe\n",
      "Sentiment(polarity=0.3333333333333333, subjectivity=0.6666666666666666)\n",
      "Deepika Padukone recently spoke about her relationship  https://t.co/OTR5EG8uvv\n",
      "Sentiment(polarity=0.0, subjectivity=0.25)\n",
      "RT @DeepikaPFC: [Instagram] Deepika Padukone followed Homi Adajania https://t.co/zurYYvebPy\n",
      "Sentiment(polarity=-0.75, subjectivity=1.0)\n",
      "RT @RKDPClub: Randhir Kapoor’s favourite is Deepika Padukone 😍 https://t.co/rZJRE54azF\n",
      "Sentiment(polarity=0.0, subjectivity=0.0)\n",
      "RT @DeepikaPFC: [Instagram] Last week Deepika Padukone followed Roger Federer, Leonardo Di Carpio, Beyoncé, Michelle Obama, Oprah, Serena W…\n",
      "Sentiment(polarity=-0.375, subjectivity=0.5333333333333333)\n",
      "U sort of look like deepika padukone wow https://t.co/yfUbNP3PvB\n",
      "Sentiment(polarity=0.1, subjectivity=1.0)\n",
      "\"Padmaavat Song\" Ghoomar: Deepika Padukone, Shahid Kapoor, Ranveer Singh|Shreya Ghoshal,Swaroop Khan https://t.co/q92Ycvfglq\n",
      "Sentiment(polarity=0.0, subjectivity=0.0)\n"
     ]
    }
   ],
   "source": [
    "public_tweets = api.search('Deepika Padukone')\n",
    "for tweet in public_tweets:\n",
    "    print(tweet.text)\n",
    "    analysis = TextBlob(tweet.text)\n",
    "    print(analysis.sentiment)"
   ]
  },
  {
   "cell_type": "code",
   "execution_count": null,
   "metadata": {},
   "outputs": [],
   "source": []
  },
  {
   "cell_type": "code",
   "execution_count": null,
   "metadata": {},
   "outputs": [],
   "source": []
  }
 ],
 "metadata": {
  "kernelspec": {
   "display_name": "Python 3",
   "language": "python",
   "name": "python3"
  },
  "language_info": {
   "codemirror_mode": {
    "name": "ipython",
    "version": 3
   },
   "file_extension": ".py",
   "mimetype": "text/x-python",
   "name": "python",
   "nbconvert_exporter": "python",
   "pygments_lexer": "ipython3",
   "version": "3.6.4"
  }
 },
 "nbformat": 4,
 "nbformat_minor": 2
}
